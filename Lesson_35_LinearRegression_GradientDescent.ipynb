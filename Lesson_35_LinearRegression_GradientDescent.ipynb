{
 "cells": [
  {
   "cell_type": "markdown",
   "id": "49a606c3",
   "metadata": {},
   "source": [
    "**Завдання 1**\n",
    "* Використовуючи дані з файлу 'student_scores.csv' побудуйте модель простої регресії для знаходження залежності між значеннями тривалості навчання і середнього балу студентів.\n",
    "* Оцінити якість отриманої регресії."
   ]
  },
  {
   "cell_type": "code",
   "execution_count": 1,
   "id": "3d769bd6",
   "metadata": {},
   "outputs": [],
   "source": []
  },
  {
   "cell_type": "code",
   "execution_count": null,
   "id": "2efbe279",
   "metadata": {},
   "outputs": [],
   "source": []
  },
  {
   "cell_type": "code",
   "execution_count": null,
   "id": "1125d57c",
   "metadata": {},
   "outputs": [],
   "source": []
  },
  {
   "cell_type": "markdown",
   "id": "ef5ceaa1",
   "metadata": {},
   "source": [
    "**Завдання 2**\n",
    "* Використовуючи дані з файлу 'petrol_consumption.csv' побудуйте модель множинної регресії для знаходження залежності між значеннями споживання бензину і похідними факторами.\n",
    "* Оцінити якість отриманої регресії."
   ]
  },
  {
   "cell_type": "code",
   "execution_count": null,
   "id": "b39f7b0d",
   "metadata": {},
   "outputs": [],
   "source": []
  },
  {
   "cell_type": "code",
   "execution_count": null,
   "id": "3e8e0320",
   "metadata": {},
   "outputs": [],
   "source": []
  },
  {
   "cell_type": "code",
   "execution_count": null,
   "id": "ef257d30",
   "metadata": {},
   "outputs": [],
   "source": []
  }
 ],
 "metadata": {
  "kernelspec": {
   "display_name": "Python 3 (ipykernel)",
   "language": "python",
   "name": "python3"
  },
  "language_info": {
   "codemirror_mode": {
    "name": "ipython",
    "version": 3
   },
   "file_extension": ".py",
   "mimetype": "text/x-python",
   "name": "python",
   "nbconvert_exporter": "python",
   "pygments_lexer": "ipython3",
   "version": "3.9.13"
  }
 },
 "nbformat": 4,
 "nbformat_minor": 5
}
